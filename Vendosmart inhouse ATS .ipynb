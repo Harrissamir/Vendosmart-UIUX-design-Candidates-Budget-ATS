{
 "cells": [
  {
   "cell_type": "code",
   "execution_count": 2,
   "id": "5d7044c0-f247-472c-ba6f-49f70df29c6e",
   "metadata": {},
   "outputs": [],
   "source": [
    "import pandas as pd"
   ]
  },
  {
   "cell_type": "code",
   "execution_count": 3,
   "id": "e49cf2d6-c77f-49fa-87e3-4398a7caa66d",
   "metadata": {},
   "outputs": [],
   "source": [
    "# Load CSV file\n",
    "file_path = r\"C:\\Users\\samir\\OneDrive\\Desktop\\UIUX Designer-Candidates.csv\"\n",
    "df = pd.read_csv(file_path)"
   ]
  },
  {
   "cell_type": "code",
   "execution_count": 4,
   "id": "34450ceb-2a61-4850-9294-2ef6d1f02833",
   "metadata": {},
   "outputs": [],
   "source": [
    "# Function to extract numeric experience values from text\n",
    "def extract_experience(exp):\n",
    "    if pd.isna(exp):\n",
    "        return 0\n",
    "    numbers = [float(s) for s in exp.split() if s.replace('.', '', 1).isdigit()]\n",
    "    return numbers[0] if numbers else 0"
   ]
  },
  {
   "cell_type": "code",
   "execution_count": 5,
   "id": "b63b29f9-1fd1-4453-a7d8-eede73af67c5",
   "metadata": {},
   "outputs": [],
   "source": [
    "# Function to extract expected CTC in LPA\n",
    "def extract_ctc(ctc):\n",
    "    if pd.isna(ctc) or \"negotiable\" in str(ctc).lower() or \"competitive\" in str(ctc).lower():\n",
    "        return None  # Undefined salary expectations\n",
    "    numbers = [float(s) for s in str(ctc).split() if s.replace('.', '', 1).isdigit()]\n",
    "    return numbers[0] if numbers else None"
   ]
  },
  {
   "cell_type": "code",
   "execution_count": 6,
   "id": "c2f2dcfd-1898-449d-a236-7e81c05c34aa",
   "metadata": {},
   "outputs": [],
   "source": [
    "# Apply extraction functions\n",
    "df[\"Total experience (years)\"] = df[\"Total experience\"].apply(extract_experience)\n",
    "df[\"Expected CTC (LPA)\"] = df[\"Expected CTC\"].apply(extract_ctc)"
   ]
  },
  {
   "cell_type": "code",
   "execution_count": 7,
   "id": "f6513ec0-2d07-4c6d-90e1-d012e9dfb9db",
   "metadata": {},
   "outputs": [
    {
     "name": "stdin",
     "output_type": "stream",
     "text": [
      "Enter minimum years of experience:  3\n",
      "Enter maximum expected CTC (LPA):  8\n"
     ]
    }
   ],
   "source": [
    "# User input for filtering\n",
    "min_experience = float(input(\"Enter minimum years of experience: \"))\n",
    "max_ctc = float(input(\"Enter maximum expected CTC (LPA): \"))"
   ]
  },
  {
   "cell_type": "code",
   "execution_count": 9,
   "id": "295a1ac6-76a2-4ce1-8ceb-cbf3a1c9a6ea",
   "metadata": {},
   "outputs": [],
   "source": [
    "# Filter candidates based on user input\n",
    "filtered_candidates = df[\n",
    "    (df[\"Total experience (years)\"] >= min_experience) &\n",
    "    (df[\"Expected CTC (LPA)\"].notna()) &\n",
    "    (df[\"Expected CTC (LPA)\"] <= max_ctc)]"
   ]
  },
  {
   "cell_type": "code",
   "execution_count": 10,
   "id": "22311143-f3cc-4971-b1a6-086ec4d2727b",
   "metadata": {},
   "outputs": [],
   "source": [
    "# Select relevant columns for display\n",
    "filtered_candidates = filtered_candidates[[\n",
    "    \"Candidate Name\", \"Total experience\", \"Relavent experience\", \"Expected CTC\", \"portfolio\", \"Linkedin link\", \"CV link\"\n",
    "]]"
   ]
  },
  {
   "cell_type": "code",
   "execution_count": 11,
   "id": "9a665319-b481-4060-a92b-a68d89c7e04d",
   "metadata": {},
   "outputs": [
    {
     "name": "stdout",
     "output_type": "stream",
     "text": [
      "\n",
      "Shortlisted Candidates:\n",
      "\n",
      "    Candidate Name Total experience Relavent experience    Expected CTC                                       portfolio                                     Linkedin link                                                              CV link\n",
      "        Dhruv Sood          6 years             6 years           8 LPA https://eportfolio.mygreatlearning.com/dhruv117 https://www.linkedin.com/in/dhruv-sood-a38b85125/                                                                  NaN\n",
      "  Vinay Kr. Maurya          4 years             3 years           8 LPA         https://vinayuxer.wixsite.com/portfolio                                               NaN                                                                  NaN\n",
      "          Prasad K        4.1 years           3.5 years         6.5 LPA            Portfolio-Prasad_.pdf - Google Drive                                               NaN https://workdrive.zoho.in/file/5vb0n43047972a7304fc9b8a4164c34203261\n",
      "siranjeevi selvraj          4 years           3.3 years more than 5 LPA                                             NaN                                               NaN                                                                  NaN\n"
     ]
    }
   ],
   "source": [
    "# Display results\n",
    "if not filtered_candidates.empty:\n",
    "    print(\"\\nShortlisted Candidates:\\n\")\n",
    "    print(filtered_candidates.to_string(index=False))\n",
    "else:\n",
    "    print(\"\\nNo candidates match the given criteria.\")"
   ]
  },
  {
   "cell_type": "code",
   "execution_count": null,
   "id": "bda7f0ee-ca01-437a-b0e3-1ba957fb7a30",
   "metadata": {},
   "outputs": [],
   "source": []
  }
 ],
 "metadata": {
  "kernelspec": {
   "display_name": "Python 3 (ipykernel)",
   "language": "python",
   "name": "python3"
  },
  "language_info": {
   "codemirror_mode": {
    "name": "ipython",
    "version": 3
   },
   "file_extension": ".py",
   "mimetype": "text/x-python",
   "name": "python",
   "nbconvert_exporter": "python",
   "pygments_lexer": "ipython3",
   "version": "3.12.4"
  }
 },
 "nbformat": 4,
 "nbformat_minor": 5
}
