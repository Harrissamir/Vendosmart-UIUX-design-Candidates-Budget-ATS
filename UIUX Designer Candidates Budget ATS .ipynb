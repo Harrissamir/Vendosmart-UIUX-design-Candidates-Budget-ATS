{
 "cells": [
  {
   "cell_type": "code",
   "execution_count": 1,
   "id": "0c35185d-ea75-4d0f-b1b8-b7424e0093c8",
   "metadata": {},
   "outputs": [],
   "source": [
    "import pandas as pd\n"
   ]
  },
  {
   "cell_type": "code",
   "execution_count": 3,
   "id": "6da450dd-3b27-4f18-a947-5419051e4472",
   "metadata": {},
   "outputs": [],
   "source": [
    "# Load CSV file\n",
    "file_path = r\"C:\\Users\\samir\\OneDrive\\Desktop\\UIUX Designer-Candidates.csv\"\n",
    "df = pd.read_csv(file_path)"
   ]
  },
  {
   "cell_type": "code",
   "execution_count": 4,
   "id": "480f08f6-3bf8-4e9e-86c7-e8ee57dd41ec",
   "metadata": {},
   "outputs": [],
   "source": [
    "# Function to extract numeric experience values from text\n",
    "def extract_experience(exp):\n",
    "    if pd.isna(exp):\n",
    "        return 0\n",
    "    numbers = [float(s) for s in exp.split() if s.replace('.', '', 1).isdigit()]\n",
    "    return numbers[0] if numbers else 0"
   ]
  },
  {
   "cell_type": "code",
   "execution_count": 5,
   "id": "a6c764b2-f5f7-4f4e-b863-1612a5a3abc0",
   "metadata": {},
   "outputs": [],
   "source": [
    "# Function to extract expected CTC in LPA\n",
    "def extract_ctc(ctc):\n",
    "    if pd.isna(ctc) or \"negotiable\" in str(ctc).lower() or \"competitive\" in str(ctc).lower():\n",
    "        return None  # Undefined salary expectations\n",
    "    numbers = [float(s) for s in str(ctc).split() if s.replace('.', '', 1).isdigit()]\n",
    "    return numbers[0] if numbers else None"
   ]
  },
  {
   "cell_type": "code",
   "execution_count": 6,
   "id": "e9302fde-a655-4590-9bd9-93f647fc8e7d",
   "metadata": {},
   "outputs": [],
   "source": [
    "# Apply functions\n",
    "df[\"Total experience (years)\"] = df[\"Total experience\"].apply(extract_experience)\n",
    "df[\"Expected CTC (LPA)\"] = df[\"Expected CTC\"].apply(extract_ctc)"
   ]
  },
  {
   "cell_type": "code",
   "execution_count": 8,
   "id": "f9a6eb22-4b6f-4833-8fd9-fcd332d99939",
   "metadata": {},
   "outputs": [],
   "source": [
    "# Filter candidates\n",
    "filtered_candidates = df[\n",
    "    (df[\"Total experience (years)\"] > 0) &\n",
    "    (df[\"Expected CTC (LPA)\"].notna()) &\n",
    "    (df[\"Expected CTC (LPA)\"] <= 8)]"
   ]
  },
  {
   "cell_type": "code",
   "execution_count": 9,
   "id": "da5e538d-6555-4988-9710-bcf158f72d44",
   "metadata": {},
   "outputs": [],
   "source": [
    "# Select relevant columns\n",
    "filtered_candidates = filtered_candidates[[\n",
    "    \"Candidate Name\", \"Total experience\", \"Relavent experience\", \"Expected CTC\", \"portfolio\", \"Linkedin link\", \"CV link\"\n",
    "]]"
   ]
  },
  {
   "cell_type": "code",
   "execution_count": 10,
   "id": "4904c022-b97f-4e48-8e65-60e4c7fc77f5",
   "metadata": {},
   "outputs": [],
   "source": [
    "# Display results\n",
    "def display_candidates():\n",
    "    print(\"\\nShortlisted Candidates (CTC ≤ 8 LPA):\")\n",
    "    print(filtered_candidates.to_string(index=False))"
   ]
  },
  {
   "cell_type": "code",
   "execution_count": 11,
   "id": "1e252db0-e770-43fb-9906-f6f159bc3e0b",
   "metadata": {},
   "outputs": [
    {
     "name": "stdout",
     "output_type": "stream",
     "text": [
      "\n",
      "Shortlisted Candidates (CTC ≤ 8 LPA):\n",
      "    Candidate Name Total experience Relavent experience            Expected CTC                                       portfolio                                     Linkedin link                                                              CV link\n",
      "         Harshdeep          2 years                 NaN                   7 LPA             https://www.behance.net/harshdeep16                                               NaN https://workdrive.zoho.in/file/kneyf96b390a0265d4cb09d61097462d9c5f0\n",
      "        Dhruv Sood          6 years             6 years                   8 LPA https://eportfolio.mygreatlearning.com/dhruv117 https://www.linkedin.com/in/dhruv-sood-a38b85125/                                                                  NaN\n",
      "  Vinay Kr. Maurya          4 years             3 years                   8 LPA         https://vinayuxer.wixsite.com/portfolio                                               NaN                                                                  NaN\n",
      "          Prasad K        4.1 years           3.5 years                 6.5 LPA            Portfolio-Prasad_.pdf - Google Drive                                               NaN https://workdrive.zoho.in/file/5vb0n43047972a7304fc9b8a4164c34203261\n",
      "             Vivek          2 years             2 years                   5 LPA                                             NaN                                               NaN                                                                  NaN\n",
      " B Balakarthikeyan        1.5 years           1.5 years 4-7 LPA ; Atleast 4 LPA                                             NaN                                               NaN                                                                  NaN\n",
      "siranjeevi selvraj          4 years           3.3 years         more than 5 LPA                                             NaN                                               NaN                                                                  NaN\n",
      "     MANASI SAXENA        1.2 years           1.2 years     8-9 LPA - Min 8 LPA                                             NaN                                               NaN                                                                  NaN\n"
     ]
    }
   ],
   "source": [
    "display_candidates()"
   ]
  },
  {
   "cell_type": "code",
   "execution_count": null,
   "id": "a44b7caa-1b04-401b-9274-550a1c7abf80",
   "metadata": {},
   "outputs": [],
   "source": []
  }
 ],
 "metadata": {
  "kernelspec": {
   "display_name": "Python 3 (ipykernel)",
   "language": "python",
   "name": "python3"
  },
  "language_info": {
   "codemirror_mode": {
    "name": "ipython",
    "version": 3
   },
   "file_extension": ".py",
   "mimetype": "text/x-python",
   "name": "python",
   "nbconvert_exporter": "python",
   "pygments_lexer": "ipython3",
   "version": "3.12.4"
  }
 },
 "nbformat": 4,
 "nbformat_minor": 5
}
